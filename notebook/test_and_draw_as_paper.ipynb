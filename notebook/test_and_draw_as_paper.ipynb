{
 "cells": [
  {
   "cell_type": "markdown",
   "metadata": {},
   "source": [
    "# Description of the use of pixel-level classification of multimodal remotely sensed data\n",
    "\n",
    "This document provides a guide for utilizing open-source code to perform pixel-level classification on multimodal remote sensing data. The accompanying notebook offers a basic demonstration of the project, showcasing the experimental results from the paper **\"Hierarchical Gated Network for Multimodal Remote Sensing Imagery Classification with Limited Data\"** and illustrating the plotting methods used in Fig2 and Fig3. Built on the PyTorch framework, the code facilitates the reading of HSI (Hyperspectral Imaging), SAR (Synthetic Aperture Radar), and DSM (Digital Surface Modeling) multimodal data, dataset construction, classification, and result visualization."
   ]
  },
  {
   "cell_type": "markdown",
   "metadata": {},
   "source": [
    "### 1. Model loading"
   ]
  },
  {
   "cell_type": "code",
   "execution_count": null,
   "metadata": {},
   "outputs": [],
   "source": [
    "import sys\n",
    "import torch\n",
    "\n",
    "sys.path.append(\"..\")\n",
    "from mm_model import HGN\n",
    "\n",
    "model = HGN([180, 4, 1], n_classes=7)\n",
    "model_dict = torch.load(\"../checkpoints/Augsburg-HGN-100.pt\", weights_only=True)\n",
    "model.load_state_dict(model_dict)"
   ]
  },
  {
   "cell_type": "markdown",
   "metadata": {},
   "source": [
    "### 2. Dataset Configuration"
   ]
  },
  {
   "cell_type": "code",
   "execution_count": null,
   "metadata": {},
   "outputs": [],
   "source": [
    "from torch.utils.data import DataLoader\n",
    "from mmrs_utils import RSMultiData, RSMultiDataset\n",
    "\n",
    "multi_data = RSMultiData(\n",
    "    tr=\"../data/Augsburg/TRLabel.mat\",\n",
    "    ts=\"../data/Augsburg/TSLabel.mat\",\n",
    "    HSI=\"../data/Augsburg/HSI.mat\",\n",
    "    SAR=\"../data/Augsburg/SAR.mat\",\n",
    "    DSM=\"../data/Augsburg/DSM.mat\",\n",
    ")\n",
    "dataset = RSMultiDataset(multi_data, is_train=False, patch_size=7, slice_method=\"ignore\", ignore=[0])\n",
    "test_loader = DataLoader(dataset, batch_size=64, shuffle=False)"
   ]
  },
  {
   "cell_type": "markdown",
   "metadata": {},
   "source": [
    "### 3. Evaluation function"
   ]
  },
  {
   "cell_type": "code",
   "execution_count": null,
   "metadata": {},
   "outputs": [],
   "source": [
    "from mmrs_utils import AverageMeter\n",
    "\n",
    "\n",
    "def evalution(model: torch.nn.Module, test_loader: DataLoader, device: str, manager):\n",
    "    model.eval()\n",
    "    model = model.to(device)\n",
    "    acc_meter = AverageMeter()\n",
    "    ticks = manager.counter(total=len(test_loader), desc=\"Evalution testset\", unit=\"pixel\", color=\"red\", leave=False)\n",
    "    with torch.no_grad():\n",
    "        for data, gt, _ in test_loader:\n",
    "            data, gt = [d.to(device) for d in data], gt.to(device)\n",
    "            output = model(data)\n",
    "            try:\n",
    "                acc_meter.update(torch.argmax(output, dim=1), gt)\n",
    "            except TypeError:\n",
    "                acc_meter.update(torch.argmax(output[0], dim=1), gt)\n",
    "            ticks.update()\n",
    "    ticks.close()\n",
    "    return acc_meter.avg, acc_meter.cale_kappa()"
   ]
  },
  {
   "cell_type": "markdown",
   "metadata": {},
   "source": [
    "### 4. Evaluation and visualization of results"
   ]
  },
  {
   "cell_type": "code",
   "execution_count": null,
   "metadata": {},
   "outputs": [],
   "source": [
    "import matplotlib.pyplot as plt\n",
    "import enlighten\n",
    "from mmrs_utils import draw_result\n",
    "\n",
    "# You can customize cmap\n",
    "Augsburg_cmap = {\n",
    "    0: [0, 0, 0],\n",
    "    1: [0, 205, 0],\n",
    "    2: [233, 232, 79],\n",
    "    3: [125, 197, 105],\n",
    "    4: [241, 101, 106],\n",
    "    5: [166, 91, 164],\n",
    "    6: [105, 92, 168],\n",
    "    7: [0, 255, 255],\n",
    "}\n",
    "\n",
    "message = \"Evaluating the dataset Augsburg on the HGN model and the training sampling rate is 100%\"\n",
    "manager = enlighten.get_manager()\n",
    "status_bar = manager.status_bar(\"\", color=\"white_on_green\", justify=enlighten.Justify.CENTER)\n",
    "status_bar.update(message)\n",
    "testacc, test_kappa = evalution(model, test_loader, \"cuda:0\", manager)\n",
    "print(f\"100% dataset test OA = {testacc:.2f} %  kappa = {test_kappa:.4f}\")\n",
    "\n",
    "rgb_image = draw_result(\n",
    "    multi_data,\n",
    "    manager=manager,\n",
    "    model=model,\n",
    "    device=\"cuda:0\",\n",
    "    ignore=[],\n",
    "    batch_size=1024,\n",
    "    cmap=Augsburg_cmap,\n",
    "    patch_size=7,\n",
    ")\n",
    "plt.imshow(rgb_image)\n",
    "plt.axis(\"off\")\n",
    "plt.title(\"Result of 100% trainset\")\n",
    "plt.show()"
   ]
  },
  {
   "cell_type": "markdown",
   "metadata": {},
   "source": [
    "### You can also choose to ignore certain categories (0 for background categories)"
   ]
  },
  {
   "cell_type": "code",
   "execution_count": null,
   "metadata": {},
   "outputs": [],
   "source": [
    "rgb_image = draw_result(\n",
    "    multi_data,\n",
    "    manager=manager,\n",
    "    model=model,\n",
    "    device=\"cuda:0\",\n",
    "    ignore=[0],\n",
    "    batch_size=1024,\n",
    "    cmap=Augsburg_cmap,\n",
    "    patch_size=7,\n",
    ")\n",
    "plt.imshow(rgb_image)\n",
    "plt.axis(\"off\")\n",
    "plt.title(\"Result of 100% trainset\")\n",
    "plt.show()"
   ]
  },
  {
   "cell_type": "markdown",
   "metadata": {},
   "source": [
    "### Ignore the background category and the first category"
   ]
  },
  {
   "cell_type": "code",
   "execution_count": null,
   "metadata": {},
   "outputs": [],
   "source": [
    "rgb_image = draw_result(\n",
    "    multi_data,\n",
    "    manager=manager,\n",
    "    model=model,\n",
    "    device=\"cuda:0\",\n",
    "    ignore=[0, 1],\n",
    "    batch_size=1024,\n",
    "    cmap=Augsburg_cmap,\n",
    "    patch_size=7,\n",
    ")\n",
    "plt.imshow(rgb_image)\n",
    "plt.axis(\"off\")\n",
    "plt.title(\"Result of 100% trainset\")\n",
    "plt.show()"
   ]
  },
  {
   "cell_type": "markdown",
   "metadata": {},
   "source": [
    "### 5. Visualization of ground truth"
   ]
  },
  {
   "cell_type": "code",
   "execution_count": null,
   "metadata": {},
   "outputs": [],
   "source": [
    "rgb_image = draw_result(multi_data, ignore=[0], batch_size=1024, cmap=Augsburg_cmap)\n",
    "plt.imshow(rgb_image)\n",
    "plt.axis(\"off\")\n",
    "plt.title(\"Ground Truth\")\n",
    "plt.show()"
   ]
  },
  {
   "cell_type": "markdown",
   "metadata": {},
   "source": []
  },
  {
   "cell_type": "code",
   "execution_count": null,
   "metadata": {},
   "outputs": [],
   "source": [
    "rgb_image = draw_result(multi_data, ignore=[0, 1], batch_size=1024, cmap=Augsburg_cmap)\n",
    "plt.imshow(rgb_image)\n",
    "plt.axis(\"off\")\n",
    "plt.title(\"Ground Truth\")\n",
    "plt.show()"
   ]
  }
 ],
 "metadata": {
  "kernelspec": {
   "display_name": "togetoge",
   "language": "python",
   "name": "python3"
  },
  "language_info": {
   "codemirror_mode": {
    "name": "ipython",
    "version": 3
   },
   "file_extension": ".py",
   "mimetype": "text/x-python",
   "name": "python",
   "nbconvert_exporter": "python",
   "pygments_lexer": "ipython3",
   "version": "3.9.19"
  }
 },
 "nbformat": 4,
 "nbformat_minor": 2
}
