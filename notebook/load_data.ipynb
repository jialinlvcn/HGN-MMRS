{
 "cells": [
  {
   "cell_type": "markdown",
   "metadata": {},
   "source": [
    "## A Python class `RSMultiData` for constructing multi-modal or signal-modal remote sensing datasets.\n",
    "\n",
    "### Description\n",
    "Initializes a multi-modal remote sensing dataset container that loads and manages different modality data from specified files.\n",
    "\n",
    "### Parameters\n",
    "- modalities (keyword arguments):\n",
    "Key-value pairs specifying modality names and corresponding filenames. Supported modalities:\n",
    "\n",
    "    - tr (str): Training labels filename\n",
    "\n",
    "    - ts (str): Test labels filename\n",
    "\n",
    "    - gt (str): Ground truth labels filename\n",
    "\n",
    "    - your_data_name (str): The modal file you want to load. Support `.mat` `.tif` `.tiff` `.hdr`"
   ]
  },
  {
   "cell_type": "code",
   "execution_count": 1,
   "metadata": {},
   "outputs": [],
   "source": [
    "import sys\n",
    "sys.path.append(\"..\")\n",
    "from mmrs_utils import RSMultiData\n",
    "\n",
    "# load train and test dataset\n",
    "multi_data_all = RSMultiData(\n",
    "    tr=\"../data/Augsburg/TRLabel.mat\",\n",
    "    ts=\"../data/Augsburg/TSLabel.mat\",\n",
    "    HSI=\"../data/Augsburg/HSI.mat\",\n",
    "    SAR=\"../data/Augsburg/SAR.mat\",\n",
    "    DSM=\"../data/Augsburg/DSM.mat\",\n",
    ")\n",
    "\n",
    "# load only-one dataset\n",
    "multi_data_train = RSMultiData(\n",
    "    gt=\"../data/Augsburg/TRLabel.mat\",\n",
    "    HSI=\"../data/Augsburg/HSI.mat\",\n",
    "    SAR=\"../data/Augsburg/SAR.mat\",\n",
    "    DSM=\"../data/Augsburg/DSM.mat\",\n",
    ")\n",
    "\n",
    "# load only-one modality\n",
    "one_modal_data = RSMultiData(\n",
    "    gt=\"../data/Augsburg/TRLabel.mat\",\n",
    "    HSI=\"../data/Augsburg/HSI.mat\",\n",
    ")"
   ]
  },
  {
   "cell_type": "markdown",
   "metadata": {},
   "source": [
    "## A PyTorch `RSMultiDataset` class for handling multi-modal remote sensing data patches.\n",
    "\n",
    "Parameters\n",
    "\n",
    "| Parameter     | Type         | Description                                         |\n",
    "| --------------| ------------ | -------------------------------------------------- |\n",
    "| data          | RSMultiData  | Instance containing loaded multi-modal data        |\n",
    "| is_train      | bool         | True for training set, False for test set         |\n",
    "| patch_size    | int          | Spatial size of extracted patches (default: 1)    |\n",
    "| slice_method   | str          | Patch extraction strategy: \"ignore\" or \"padding\" (default: \"ignore\") |\n",
    "| ignore        | list         | List of label values to ignore during sampling (default: [0]) |\n",
    "| is_flip       | bool         | Enable random flipping augmentation for training (default: False) |"
   ]
  },
  {
   "cell_type": "code",
   "execution_count": 2,
   "metadata": {},
   "outputs": [
    {
     "name": "stdout",
     "output_type": "stream",
     "text": [
      "Data label: 1\n",
      "Data pos: (4, 209)\n",
      "HSI Data shape: (180, 7, 7)\n",
      "SAR Data shape: (4, 7, 7)\n",
      "DSM Data shape: (1, 7, 7)\n"
     ]
    }
   ],
   "source": [
    "from mmrs_utils import RSMultiDataset\n",
    "\n",
    "# get train dataset\n",
    "train_dataset = RSMultiDataset(\n",
    "    data=multi_data_all,\n",
    "    is_train=True,\n",
    "    patch_size=7,\n",
    "    slice_method=\"ignore\",\n",
    "    ignore=[0], # Filter background label\n",
    "    is_flip=True\n",
    ")\n",
    "data, label, pos = train_dataset[0]\n",
    "HSI_data = data[0]\n",
    "SAR_data = data[1]\n",
    "DSM_data = data[2]\n",
    "print(f\"Data label: {label.item()}\")\n",
    "print(f\"Data pos: {pos}\")\n",
    "print(f\"HSI Data shape: {HSI_data.shape}\")\n",
    "print(f\"SAR Data shape: {SAR_data.shape}\")\n",
    "print(f\"DSM Data shape: {DSM_data.shape}\")\n"
   ]
  },
  {
   "cell_type": "markdown",
   "metadata": {},
   "source": [
    "### You can also divide the dataset yourself"
   ]
  },
  {
   "cell_type": "code",
   "execution_count": 8,
   "metadata": {},
   "outputs": [
    {
     "name": "stdout",
     "output_type": "stream",
     "text": [
      "Train data size is 540\n",
      "Test data size is 140\n"
     ]
    }
   ],
   "source": [
    "# load only-one dataset\n",
    "multi_data_train = RSMultiData(\n",
    "    gt=\"../data/Augsburg/TRLabel.mat\",\n",
    "    HSI=\"../data/Augsburg/HSI.mat\",\n",
    "    SAR=\"../data/Augsburg/SAR.mat\",\n",
    "    DSM=\"../data/Augsburg/DSM.mat\",\n",
    "    train_rate=0.8,\n",
    ")\n",
    "train_dataset = RSMultiDataset(\n",
    "    data=multi_data_train,\n",
    "    is_train=True,\n",
    "    patch_size=7,\n",
    "    slice_method=\"ignore\",\n",
    "    ignore=[0], # Filter background label\n",
    "    is_flip=True\n",
    ")\n",
    "test_dataset = RSMultiDataset(\n",
    "    data=multi_data_train,\n",
    "    is_train=False,\n",
    "    patch_size=7,\n",
    "    slice_method=\"ignore\",\n",
    "    ignore=[0], # Filter background label\n",
    "    is_flip=True\n",
    ")\n",
    "print(f\"Train data size is {len(train_dataset)}\")\n",
    "print(f\"Test data size is {len(test_dataset)}\")"
   ]
  }
 ],
 "metadata": {
  "kernelspec": {
   "display_name": "togetoge",
   "language": "python",
   "name": "python3"
  },
  "language_info": {
   "codemirror_mode": {
    "name": "ipython",
    "version": 3
   },
   "file_extension": ".py",
   "mimetype": "text/x-python",
   "name": "python",
   "nbconvert_exporter": "python",
   "pygments_lexer": "ipython3",
   "version": "3.9.19"
  }
 },
 "nbformat": 4,
 "nbformat_minor": 2
}
